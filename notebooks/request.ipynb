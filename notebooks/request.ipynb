{
 "cells": [
  {
   "cell_type": "markdown",
   "id": "57411a9a-7e07-41aa-9517-9e29bfd10673",
   "metadata": {},
   "source": [
    "## Vulnerabilities\n",
    "This documentation assumes that you already understand at least one common programming language and are generally familiar with JSON RESTful services. JSON specifies the format of the data returned by the REST service. REST refers to a style of services that allow computers to communicate via HTTP over the Internet. Click here for a list of best practices and additional information on where to start. The NVD is also documenting popular workflows to assist developers working with the APIs.\n",
    "\n",
    "## CVE API\n",
    "The CVE API is used to easily retrieve information on a single CVE or a collection of CVE from the NVD. The NVD contains 305,871 CVE records. Because of this, its APIs enforce offset-based pagination to answer requests for large collections. Through a series of smaller “chunked” responses controlled by an offset startIndex and a page limit resultsPerPage users may page through all the CVE in the NVD."
   ]
  },
  {
   "cell_type": "code",
   "execution_count": 1,
   "id": "23f8c0ab-b1a2-418d-8a09-2b9979f1b5cd",
   "metadata": {
    "tags": []
   },
   "outputs": [],
   "source": [
    "import requests\n",
    "import json\n",
    "import os\n",
    "import pandas as pd\n",
    "from datetime import datetime, timedelta\n",
    "import time"
   ]
  },
  {
   "cell_type": "code",
   "execution_count": null,
   "id": "25fa2ca2-d005-49a2-897c-2b3a2a8e19e0",
   "metadata": {
    "tags": []
   },
   "outputs": [],
   "source": [
    "# os.chdir('./notebooks')\n",
    "os.getcwd()"
   ]
  },
  {
   "cell_type": "markdown",
   "id": "70f1018a-20e9-475f-b4c9-e62081f943b1",
   "metadata": {
    "jp-MarkdownHeadingCollapsed": true,
    "tags": []
   },
   "source": [
    "## CVSS Versión  4"
   ]
  },
  {
   "cell_type": "code",
   "execution_count": null,
   "id": "8c700525-0c97-4047-ba39-0a7f0819edcd",
   "metadata": {
    "tags": []
   },
   "outputs": [],
   "source": [
    "# Parámetros \n",
    "url=\"https://services.nvd.nist.gov/rest/json/cves/2.0/\"\n",
    "# parameters = \"cvssV4Severity=CRITICAL&lastModStartDate=2025-08-04T13:00:00.000%2B01:00&lastModEndDate=2025-10-22T13:36:00.000%2B01:00\"\n",
    "params_time = \"pubStartDate=2025-07-01T00:00:00.000&pubEndDate=2025-08-01T00:00:00.000\"\n",
    "params_severity_high = \"cvssV4Severity=HIGH\" #|cvssV4Severity=CRITICAL\"\n",
    "params_severity_critical = \"cvssV4Severity=CRITICAL\" #|cvssV4Severity=CRITICAL\"\n",
    "\n",
    "# Realizar la petición\n",
    "response_high = requests.get(f'{url}?{params_severity_high}')#{params_time}&\n",
    "response_critical = requests.get(f'{url}?{params_severity_critical}')#{params_time}&\n",
    "\n",
    "print(f'Respuesta del servidor: {response_high} {response_critical}')\n",
    "\n",
    "# Json to list:\n",
    "list_data = response_high.json()\n",
    "cve = list_data['vulnerabilities']\n",
    "      \n",
    "list_data = response_critical.json()\n",
    "cve_2 = list_data['vulnerabilities']\n",
    "\n",
    "cve.extend(cve_2)\n",
    "\n",
    "# Dataframe:\n",
    "lista_cve = []\n",
    "\n",
    "for i in cve:\n",
    "    lista_cve.append(i[\"cve\"])\n",
    "\n",
    "data = pd.DataFrame(lista_cve)\n",
    "\n",
    "\n",
    "# Castear las fechas:\n",
    "data[\"published\"] = pd.to_datetime(data[\"published\"])\n",
    "data[\"lastModified\"] = pd.to_datetime(data[\"lastModified\"])\n",
    "# data.info()"
   ]
  },
  {
   "cell_type": "code",
   "execution_count": null,
   "id": "e90ad06b-f7e3-4cc0-bb4b-fa7726dda279",
   "metadata": {},
   "outputs": [],
   "source": [
    "# últimos días\n",
    "earliest_time = datetime.now() - timedelta(days=120)\n",
    "data[data[\"published\"] >= earliest_time]"
   ]
  },
  {
   "cell_type": "markdown",
   "id": "5d211ef2-811a-4cf5-858a-a356a3e936b7",
   "metadata": {
    "jp-MarkdownHeadingCollapsed": true,
    "tags": []
   },
   "source": [
    "## CVSS versión  3"
   ]
  },
  {
   "cell_type": "code",
   "execution_count": null,
   "id": "f5a483f5-9eca-4511-a501-2cda557f5ee0",
   "metadata": {
    "tags": []
   },
   "outputs": [],
   "source": [
    "# Parámetros \n",
    "url=\"https://services.nvd.nist.gov/rest/json/cves/2.0/\"\n",
    "# parameters = \"cvssV4Severity=CRITICAL&lastModStartDate=2025-08-04T13:00:00.000%2B01:00&lastModEndDate=2025-10-22T13:36:00.000%2B01:00\"\n",
    "params_time = \"pubStartDate=2025-07-01T00:00:00.000&pubEndDate=2025-08-01T00:00:00.000\"\n",
    "params_severity_high = \"cvssV3Severity=HIGH\" #|cvssV4Severity=CRITICAL\"\n",
    "params_severity_critical = \"cvssV3Severity=CRITICAL\" #|cvssV4Severity=CRITICAL\"\n",
    "\n",
    "# Realizar la petición\n",
    "response_high = requests.get(f'{url}?{params_severity_high}')#{params_time}&\n",
    "response_critical = requests.get(f'{url}?{params_severity_critical}')#{params_time}&\n",
    "\n",
    "print(f'Respuesta del servidor: {response_high} {response_critical}')\n",
    "\n",
    "# Json to list:\n",
    "list_data = response_high.json()\n",
    "cve = list_data['vulnerabilities']\n",
    "      \n",
    "list_data = response_critical.json()\n",
    "cve_2 = list_data['vulnerabilities']\n",
    "\n",
    "cve.extend(cve_2)\n",
    "\n",
    "# Dataframe:\n",
    "lista_cve = [ i[\"cve\"] for i in cve ]\n",
    "\n",
    "\n",
    "\n",
    "data = pd.DataFrame(lista_cve)\n",
    "\n",
    "\n",
    "# Castear las fechas:\n",
    "data[\"published\"] = pd.to_datetime(data[\"published\"])\n",
    "data[\"lastModified\"] = pd.to_datetime(data[\"lastModified\"])\n",
    "# data.info()"
   ]
  },
  {
   "cell_type": "code",
   "execution_count": null,
   "id": "282b2f2d-3d13-4374-835f-a694002da535",
   "metadata": {},
   "outputs": [],
   "source": [
    "# fecha limite\n",
    "fecha_lim = datetime(2025,4,4)\n",
    "data[data[\"published\"] >= fecha_lim]"
   ]
  },
  {
   "cell_type": "markdown",
   "id": "4550527f-0106-4065-b07f-44b1db2051a7",
   "metadata": {},
   "source": [
    "---\n",
    "## Búsqueda por fecha"
   ]
  },
  {
   "cell_type": "markdown",
   "id": "9958b62d-fefb-4707-aaca-486aa622879c",
   "metadata": {},
   "source": [
    "La API solo permite descargar 2000 resultados por vez. \n",
    "Entonces, primero realizo un request para cuantificar los resultados que se requieren ir a buscar."
   ]
  },
  {
   "cell_type": "code",
   "execution_count": 2,
   "id": "22197959-e767-4fd5-8c1d-5a6853d2744d",
   "metadata": {
    "tags": []
   },
   "outputs": [
    {
     "name": "stdout",
     "output_type": "stream",
     "text": [
      "La cantidad de resultados 4281 durante 2025-07-15T00:00:00.000 - 2025-08-20T00:00:00.000\n"
     ]
    }
   ],
   "source": [
    "# Parámetros \n",
    "url=\"https://services.nvd.nist.gov/rest/json/cves/2.0/\"\n",
    "params_time = \"pubStartDate=2025-07-15T00:00:00.000&pubEndDate=2025-08-20T00:00:00.000\"\n",
    "from_time = \"2025-07-15T00:00:00.000\"\n",
    "to_time = \"2025-08-20T00:00:00.000\"\n",
    "params_index = \"startIndex=0\"\n",
    "params_result_per_page = \"resultsPerPage=2000\"\n",
    "\n",
    "# Realizar la petición\n",
    "response_fecha = requests.get(f'{url}?{params_result_per_page}&{params_index}&pubStartDate={from_time}&pubEndDate={to_time}')\n",
    "\n",
    "# Json to list:\n",
    "list_data = response_fecha.json()\n",
    "\n",
    "# Guardo el total de resultados \n",
    "total_result = list_data['totalResults']\n",
    "print(f'La cantidad de resultados {total_result} durante {from_time} - {to_time}' )\n"
   ]
  },
  {
   "cell_type": "code",
   "execution_count": 3,
   "id": "4234a79a-eae6-4ebb-9ea8-bb014c8473db",
   "metadata": {
    "tags": []
   },
   "outputs": [
    {
     "name": "stdout",
     "output_type": "stream",
     "text": [
      "Respuesta del servidor: <Response [200]> a partir del indice 0\n",
      "Respuesta del servidor: <Response [200]> a partir del indice 2000\n",
      "Respuesta del servidor: <Response [200]> a partir del indice 4000\n"
     ]
    }
   ],
   "source": [
    "# Voy haciendo peticiones cada 2000 resultados\n",
    "cve = []\n",
    "for i in range(0,total_result,2000):\n",
    "    # Realizar la petición\n",
    "    response_fecha = requests.get(f'{url}?{params_index}{i}&{params_time}')\n",
    "    print(f'Respuesta del servidor: {response_fecha} a partir del indice {i}' )\n",
    "\n",
    "    # Json to list:\n",
    "    list_data = response_fecha.json()\n",
    "    cve = cve + list_data['vulnerabilities']\n",
    "    \n",
    "\n",
    "\n",
    "# Dataframe:\n",
    "lista_cve = [ i[\"cve\"] for i in cve ]\n",
    "data = pd.DataFrame(lista_cve)\n",
    "\n",
    "# Castear las fechas:\n",
    "data[\"published\"] = pd.to_datetime(data[\"published\"])\n",
    "data[\"lastModified\"] = pd.to_datetime(data[\"lastModified\"])"
   ]
  },
  {
   "cell_type": "markdown",
   "id": "abd0ae52-ff3a-4ff0-aaf6-cd78d6079327",
   "metadata": {
    "jp-MarkdownHeadingCollapsed": true,
    "tags": []
   },
   "source": [
    "### Listo severidad y CPE en pantalla"
   ]
  },
  {
   "cell_type": "code",
   "execution_count": null,
   "id": "e1a6503d-ab89-49c3-bf09-ee286b7e2042",
   "metadata": {
    "tags": []
   },
   "outputs": [],
   "source": [
    "cve_cpe_list = []\n",
    "severity_cvssv31 = []\n",
    "severity_cvssv4 = []\n",
    "severity_cvssv2 = []\n",
    "\n",
    "for i in cve:\n",
    "    # CVE\n",
    "    cve_id = i['cve']['id']\n",
    "    \n",
    "    # CPE\n",
    "    try:\n",
    "        cve_cpe = i[\"cve\"]['configurations'][0]['nodes'][0]['cpeMatch'][0]['criteria']\n",
    "        cve_cpe_list.append(cve_cpe)\n",
    "    except Exception as e:\n",
    "        cve_cpe = 'NaN'\n",
    "        cve_cpe_list.append(cve_cpe)\n",
    "    \n",
    "    # Severidad HIGH & CRITICAL para las distintas versiones CVSS\n",
    "    try:\n",
    "        severidad =  i[\"cve\"]['metrics']['cvssMetricV31'][0]['cvssData']['baseSeverity']\n",
    "        if severidad in ['HIGH','CRITICAL']:\n",
    "            print(f'{cve_id} con severidad en CVSS31 es: {severidad} con CPE: {cve_cpe}')\n",
    "            severity_cvssv31.append(severidad)\n",
    "    except Exception as e:\n",
    "        severity_cvssv31.append(\"NaN\")\n",
    "    try:\n",
    "        severidad =  i[\"cve\"]['metrics']['cvssMetricV40'][0]['cvssData']['baseSeverity']\n",
    "        if severidad in ['HIGH','CRITICAL']:\n",
    "            print(f'{cve_id} con severidad en CVSS4 es: {severidad} con CPE: {cve_cpe}')\n",
    "            severity_cvssv4.append(severidad)\n",
    "        else:\n",
    "            pass\n",
    "                \n",
    "    except Exception as e:\n",
    "        severity_cvssv4.append(\"NaN\")\n",
    "    try:\n",
    "        severidad =  i[\"cve\"]['metrics']['cvssMetricV2'][0]['cvssData']['baseScore']\n",
    "        if severidad > 7:\n",
    "            print(f'{cve_id} con severidad en CVSS2 es: {severidad} con CPE: {cve_cpe}')\n",
    "    except Exception as e:\n",
    "        pass\n",
    "\n",
    "\n"
   ]
  },
  {
   "cell_type": "markdown",
   "id": "29b78e13-9e7f-416d-93c0-26ff016d834f",
   "metadata": {},
   "source": [
    "## Tabla"
   ]
  },
  {
   "cell_type": "code",
   "execution_count": 4,
   "id": "63e98194-4a4b-4190-8af9-1bc2c2e4b5f9",
   "metadata": {
    "tags": []
   },
   "outputs": [],
   "source": [
    "cve_cpe_list = []\n",
    "severity_cvssv31 = []\n",
    "severity_cvssv4 = []\n",
    "severity_cvssv2 = []\n",
    "cve_description_list = []\n",
    "\n",
    "for i in cve:\n",
    "    # CVE\n",
    "    cve_id = i['cve']['id']\n",
    "    \n",
    "    # CPE\n",
    "    try:\n",
    "        cve_cpe = i[\"cve\"]['configurations'][0]['nodes'][0]['cpeMatch'][0]['criteria']\n",
    "        cve_cpe_list.append(cve_cpe)\n",
    "    except Exception as e:\n",
    "        cve_cpe = None\n",
    "        cve_cpe_list.append(cve_cpe)\n",
    "    \n",
    "    # Descripción:\n",
    "    try:\n",
    "        cve_description = i[\"cve\"]['descriptions'][1]['value']\n",
    "        cve_description_list.append(cve_description)\n",
    "    except Exception as e:\n",
    "        cve_description = None\n",
    "        cve_description_list.append(cve_cpe)\n",
    "    \n",
    "    # Guardo Severidad para las distintas versiones CVSS\n",
    "    # versión 3.1\n",
    "    try:\n",
    "        severidad =  i[\"cve\"]['metrics']['cvssMetricV31'][0]['cvssData']['baseSeverity']\n",
    "        severity_cvssv31.append(severidad)\n",
    "    except Exception as e:\n",
    "        severity_cvssv31.append(None)\n",
    "    \n",
    "    # versión 4.0\n",
    "    try:\n",
    "        severidad =  i[\"cve\"]['metrics']['cvssMetricV40'][0]['cvssData']['baseSeverity']\n",
    "        severity_cvssv4.append(severidad)                      \n",
    "    except Exception as e:\n",
    "        severity_cvssv4.append(None)\n",
    "    \n",
    "    # versión 2.0\n",
    "    try:\n",
    "        severidad =  i[\"cve\"]['metrics']['cvssMetricV2'][0]['cvssData']['baseScore']\n",
    "        severity_cvssv2.append(severidad)\n",
    "    except Exception as e:\n",
    "        severity_cvssv2.append(None)\n",
    "\n",
    "\n",
    "\n",
    "# Agrego estos datos como columna a la tabla\n",
    "data['CPE'] = cve_cpe_list\n",
    "data['CVSS_31'] = severity_cvssv31\n",
    "data['CVSS_4'] = severity_cvssv4\n",
    "data['CVSS_2'] = severity_cvssv2\n",
    "data['Description'] = cve_description_list\n"
   ]
  },
  {
   "cell_type": "markdown",
   "id": "e694e2fd-15bb-4e09-86d0-38df0db583f9",
   "metadata": {
    "jp-MarkdownHeadingCollapsed": true,
    "tags": []
   },
   "source": [
    "#### Elimino columnas que no me interesan."
   ]
  },
  {
   "cell_type": "code",
   "execution_count": null,
   "id": "49935565-a9a6-4860-98bc-2cf5f4bbc105",
   "metadata": {
    "tags": []
   },
   "outputs": [],
   "source": [
    "del data['descriptions']\n",
    "del data['metrics']\n",
    "del data['weaknesses']\n",
    "del data['configurations']\n",
    "del data['references']\n",
    "del data['cisaExploitAdd']\n",
    "del data['cisaActionDue']\n",
    "del data['cisaRequiredAction']\n",
    "del data['cisaVulnerabilityName']"
   ]
  },
  {
   "cell_type": "markdown",
   "id": "b011735f-f7b5-4ddf-b828-a94e68865be5",
   "metadata": {},
   "source": [
    "## LOAD: Inventario de equipos."
   ]
  },
  {
   "cell_type": "code",
   "execution_count": 5,
   "id": "f74e5c73-c9b2-4619-966e-77281365b396",
   "metadata": {
    "tags": []
   },
   "outputs": [],
   "source": [
    "# Leo el inventarios\n",
    "tecnologias_monex = pd.read_excel(\"..//data//raw//tecnologias_monex.xlsx\")\n",
    "marcas = tecnologias_monex['Marca'].drop_duplicates().values"
   ]
  },
  {
   "cell_type": "markdown",
   "id": "4fbbb4d6-f384-4a9b-94f5-e777338a1adc",
   "metadata": {},
   "source": [
    "### Buscar por Marca o Vendor"
   ]
  },
  {
   "cell_type": "code",
   "execution_count": 7,
   "id": "dbcc87b5-9bfd-4d4b-9130-a537e1b2e42f",
   "metadata": {
    "tags": []
   },
   "outputs": [
    {
     "name": "stderr",
     "output_type": "stream",
     "text": [
      "C:\\Users\\mbustos_lightech\\AppData\\Local\\Temp\\ipykernel_25676\\3315835943.py:4: UserWarning: This pattern is interpreted as a regular expression, and has match groups. To actually get the groups, use str.extract.\n",
      "  vuln_df = data[data['CPE'].str.contains(i, case = False, na= False)]\n"
     ]
    }
   ],
   "source": [
    "# Itero entre la lista de marcas y busco en la tabla de los cve del NIST\n",
    "vuln_marcas =[] \n",
    "for i in marcas:\n",
    "    vuln_df = data[data['CPE'].str.contains(i, case = False, na= False)]\n",
    "    vuln_marcas.append(vuln_df)\n",
    "    \n",
    "\n",
    "# Concateno la lista de los resultados encontrados\n",
    "vuln_marcas = pd.concat(vuln_marcas, ignore_index=True)"
   ]
  },
  {
   "cell_type": "markdown",
   "id": "47074596-8fcd-4466-96ee-4b1d8a4e6bc7",
   "metadata": {},
   "source": [
    "### Filtro: HIGH & CRITICAL"
   ]
  },
  {
   "cell_type": "code",
   "execution_count": 29,
   "id": "18fc2ef2-aedb-45af-958b-cd83f91b15e5",
   "metadata": {
    "tags": []
   },
   "outputs": [],
   "source": [
    "vuln_high_critical = vuln_marcas[vuln_marcas['CVSS_31'].isin(['HIGH','CRITICAL']) |\n",
    "                                vuln_marcas['CVSS_4'].isin(['HIGH','CRITICAL'])]\n",
    "# vuln_high_critical = vuln_high_critical[['id', 'published', 'lastModified', 'CPE', 'CVSS_31', 'CVSS_4', 'Description']]"
   ]
  },
  {
   "cell_type": "markdown",
   "id": "7aed897f-f920-4451-ae3c-e35a0e9f73fb",
   "metadata": {},
   "source": [
    "### FORMATO FINAL"
   ]
  },
  {
   "cell_type": "code",
   "execution_count": 38,
   "id": "0425a554-cbca-434b-97d6-9afe058b96eb",
   "metadata": {
    "tags": []
   },
   "outputs": [],
   "source": [
    "# Extraer el fragmento del CPE (a partir del tercer \":\" y del cuarto \":\")\n",
    "vuln_high_critical['Modelo'] = vuln_high_critical['CPE'].str.split(':').str[4]\n",
    "vuln_high_critical['Marca'] = vuln_high_critical['CPE'].str.split(':').str[3]\n",
    "\n",
    "\n",
    "\n",
    "# Renombrar columnas para que sean más claras\n",
    "vuln_high_critical = vuln_high_critical.rename(columns={\n",
    "    \"published\": \"Fecha de creación\",\n",
    "    \"Description\": \"Descripción\"    \n",
    "})\n",
    "\n",
    "# Dataframe final\n",
    "vuln_high_critical = vuln_high_critical[['id', \"Fecha de creación\", 'Marca', 'Modelo',\n",
    "       'Descripción', 'CVSS_31', 'CVSS_4']]"
   ]
  },
  {
   "cell_type": "markdown",
   "id": "a205ad43-8e17-4816-8942-e6eba7a5a348",
   "metadata": {
    "tags": []
   },
   "source": [
    "### EXTRACT"
   ]
  },
  {
   "cell_type": "code",
   "execution_count": 40,
   "id": "438646f8-19ab-483c-b2ef-3fdef274c5cb",
   "metadata": {
    "tags": []
   },
   "outputs": [],
   "source": [
    "# Guardo la info en un archivo CSV\n",
    "vuln_high_critical.to_csv('..//data//stage//vuln_high_critical.csv', index=False, encoding='utf-8-sig')\n"
   ]
  },
  {
   "cell_type": "code",
   "execution_count": 9,
   "id": "5a70c1aa-3d41-40b0-9c4b-4f561827633b",
   "metadata": {
    "tags": []
   },
   "outputs": [
    {
     "name": "stdout",
     "output_type": "stream",
     "text": [
      "<class 'pandas.core.frame.DataFrame'>\n",
      "Index: 139 entries, 0 to 296\n",
      "Data columns (total 7 columns):\n",
      " #   Column        Non-Null Count  Dtype         \n",
      "---  ------        --------------  -----         \n",
      " 0   id            139 non-null    object        \n",
      " 1   published     139 non-null    datetime64[ns]\n",
      " 2   lastModified  139 non-null    datetime64[ns]\n",
      " 3   CPE           139 non-null    object        \n",
      " 4   CVSS_31       139 non-null    object        \n",
      " 5   CVSS_4        4 non-null      object        \n",
      " 6   Description   139 non-null    object        \n",
      "dtypes: datetime64[ns](2), object(5)\n",
      "memory usage: 8.7+ KB\n"
     ]
    }
   ],
   "source": [
    "# vuln_high_critical = vuln_high_critical.astype('str')\n",
    "vuln_high_critical.info()"
   ]
  },
  {
   "cell_type": "markdown",
   "id": "28aa1ef8-b53c-4688-a74c-7e7e8c3d1c9c",
   "metadata": {
    "jp-MarkdownHeadingCollapsed": true,
    "tags": []
   },
   "source": [
    "# CVSS versión 4 bis"
   ]
  },
  {
   "cell_type": "code",
   "execution_count": null,
   "id": "02697ce2-3f47-4a21-a2a7-1e310a5b271e",
   "metadata": {
    "tags": []
   },
   "outputs": [],
   "source": [
    "for i in cve:\n",
    "    cve_id = i['cve']['id']\n",
    "    try:\n",
    "        cve_cpe = i[\"cve\"]['configurations'][0]['nodes'][0]['cpeMatch'][0]['criteria']\n",
    "    except Exception as e:\n",
    "        cve_cpe = 'Nan'\n",
    "    try:\n",
    "        severidad =  i[\"cve\"]['metrics']['cvssMetricV40'][0]['cvssData']['baseSeverity']\n",
    "        if severidad in ['HIGH','CRITICAL']:\n",
    "            print(f'{cve_id} con severidad en CVSS4 es: {severidad} con CPE: {cve_cpe}')\n",
    "    except Exception as e:\n",
    "        pass\n",
    "    \n",
    "\n"
   ]
  },
  {
   "cell_type": "code",
   "execution_count": null,
   "id": "236e667a-ca44-45fd-ade3-30245078f901",
   "metadata": {
    "tags": []
   },
   "outputs": [],
   "source": [
    "cve[0]['cve']['configurations'][0]['nodes'][0]['cpeMatch'][0]['criteria']"
   ]
  },
  {
   "cell_type": "code",
   "execution_count": null,
   "id": "ade61934-a1ba-4323-8433-961144fabb4a",
   "metadata": {},
   "outputs": [],
   "source": []
  },
  {
   "cell_type": "code",
   "execution_count": null,
   "id": "b2ef59a9-db70-40d9-907f-f0f5ad075e10",
   "metadata": {
    "tags": []
   },
   "outputs": [],
   "source": [
    "\n",
    "# Guardar los datos en un archivo JSON\n",
    "with open('../data/list_data.json', 'w') as file:\n",
    "    json.dump(list_data, file)"
   ]
  },
  {
   "cell_type": "code",
   "execution_count": null,
   "id": "0cb63656-6456-490a-82a1-36a6a7a3740e",
   "metadata": {
    "tags": []
   },
   "outputs": [],
   "source": [
    "data.sort_values(\"published\", ascending=False)"
   ]
  },
  {
   "cell_type": "code",
   "execution_count": null,
   "id": "63d59575-9c69-47a0-8422-e036f18c5d7f",
   "metadata": {},
   "outputs": [],
   "source": []
  }
 ],
 "metadata": {
  "kernelspec": {
   "display_name": "Python 3 (ipykernel)",
   "language": "python",
   "name": "python3"
  },
  "language_info": {
   "codemirror_mode": {
    "name": "ipython",
    "version": 3
   },
   "file_extension": ".py",
   "mimetype": "text/x-python",
   "name": "python",
   "nbconvert_exporter": "python",
   "pygments_lexer": "ipython3",
   "version": "3.11.5"
  }
 },
 "nbformat": 4,
 "nbformat_minor": 5
}
