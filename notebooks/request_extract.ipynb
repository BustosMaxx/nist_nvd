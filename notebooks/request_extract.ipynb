{
 "cells": [
  {
   "cell_type": "markdown",
   "id": "57411a9a-7e07-41aa-9517-9e29bfd10673",
   "metadata": {},
   "source": [
    "## Vulnerabilities\n",
    "This documentation assumes that you already understand at least one common programming language and are generally familiar with JSON RESTful services. JSON specifies the format of the data returned by the REST service. REST refers to a style of services that allow computers to communicate via HTTP over the Internet. Click here for a list of best practices and additional information on where to start. The NVD is also documenting popular workflows to assist developers working with the APIs.\n",
    "\n",
    "## CVE API\n",
    "The CVE API is used to easily retrieve information on a single CVE or a collection of CVE from the NVD. The NVD contains 305,871 CVE records. Because of this, its APIs enforce offset-based pagination to answer requests for large collections. Through a series of smaller “chunked” responses controlled by an offset startIndex and a page limit resultsPerPage users may page through all the CVE in the NVD."
   ]
  },
  {
   "cell_type": "code",
   "execution_count": 2,
   "id": "23f8c0ab-b1a2-418d-8a09-2b9979f1b5cd",
   "metadata": {
    "tags": []
   },
   "outputs": [],
   "source": [
    "# Importo la librerías necesarias\n",
    "import requests\n",
    "import json\n",
    "import os\n",
    "import pandas as pd\n",
    "from datetime import datetime, timedelta\n",
    "import time"
   ]
  },
  {
   "cell_type": "markdown",
   "id": "4550527f-0106-4065-b07f-44b1db2051a7",
   "metadata": {},
   "source": [
    "---\n",
    "## Búsqueda por fecha"
   ]
  },
  {
   "cell_type": "markdown",
   "id": "9958b62d-fefb-4707-aaca-486aa622879c",
   "metadata": {},
   "source": [
    "La API solo permite descargar 2000 resultados por vez. \n",
    "Entonces, primero realizo un request para cuantificar los resultados que se requieren ir a buscar."
   ]
  },
  {
   "cell_type": "code",
   "execution_count": 4,
   "id": "22197959-e767-4fd5-8c1d-5a6853d2744d",
   "metadata": {
    "tags": []
   },
   "outputs": [
    {
     "name": "stdout",
     "output_type": "stream",
     "text": [
      "La cantidad de resultados 4281 durante 2025-07-15T00:00:00.000 - 2025-08-20T00:00:00.000\n"
     ]
    }
   ],
   "source": [
    "# Parámetros \n",
    "url=\"https://services.nvd.nist.gov/rest/json/cves/2.0/\"\n",
    "params_time = \"pubStartDate=2025-07-15T00:00:00.000&pubEndDate=2025-08-28T00:00:00.000\"\n",
    "from_time = \"2025-07-15T00:00:00.000\"\n",
    "to_time = \"2025-08-20T00:00:00.000\"\n",
    "params_index = \"startIndex=0\"\n",
    "params_result_per_page = \"resultsPerPage=2000\"\n",
    "\n",
    "# Realizar la petición\n",
    "response_fecha = requests.get(f'{url}?{params_result_per_page}&{params_index}&pubStartDate={from_time}&pubEndDate={to_time}')\n",
    "\n",
    "# Json to list:\n",
    "list_data = response_fecha.json()\n",
    "\n",
    "# Guardo el total de resultados \n",
    "total_result = list_data['totalResults']\n",
    "print(f'La cantidad de resultados {total_result} durante {from_time} - {to_time}' )\n"
   ]
  },
  {
   "cell_type": "code",
   "execution_count": 5,
   "id": "4234a79a-eae6-4ebb-9ea8-bb014c8473db",
   "metadata": {
    "tags": []
   },
   "outputs": [
    {
     "name": "stdout",
     "output_type": "stream",
     "text": [
      "Respuesta del servidor: <Response [200]> a partir del indice 0\n",
      "Respuesta del servidor: <Response [200]> a partir del indice 2000\n",
      "Respuesta del servidor: <Response [200]> a partir del indice 4000\n"
     ]
    }
   ],
   "source": [
    "# Voy haciendo peticiones cada 2000 resultados\n",
    "cve = []\n",
    "for i in range(0,total_result,2000):\n",
    "    # Realizar la petición\n",
    "    response_fecha = requests.get(f'{url}?{params_index}{i}&{params_time}')\n",
    "    print(f'Respuesta del servidor: {response_fecha} a partir del indice {i}' )\n",
    "\n",
    "    # Json to list:\n",
    "    list_data = response_fecha.json()\n",
    "    cve = cve + list_data['vulnerabilities']\n",
    "    \n",
    "\n",
    "\n",
    "# Dataframe:\n",
    "lista_cve = [ i[\"cve\"] for i in cve ]\n",
    "data = pd.DataFrame(lista_cve)\n",
    "\n",
    "# Castear las fechas:\n",
    "data[\"published\"] = pd.to_datetime(data[\"published\"])\n",
    "data[\"lastModified\"] = pd.to_datetime(data[\"lastModified\"])"
   ]
  },
  {
   "cell_type": "markdown",
   "id": "29b78e13-9e7f-416d-93c0-26ff016d834f",
   "metadata": {},
   "source": [
    "## Tabla"
   ]
  },
  {
   "cell_type": "code",
   "execution_count": 7,
   "id": "63e98194-4a4b-4190-8af9-1bc2c2e4b5f9",
   "metadata": {
    "tags": []
   },
   "outputs": [],
   "source": [
    "cve_cpe_list = []\n",
    "severity_cvssv31 = []\n",
    "severity_cvssv4 = []\n",
    "severity_cvssv2 = []\n",
    "cve_description_list = []\n",
    "\n",
    "for i in cve:\n",
    "    # CVE\n",
    "    cve_id = i['cve']['id']\n",
    "    \n",
    "    # CPE\n",
    "    try:\n",
    "        cve_cpe = i[\"cve\"]['configurations'][0]['nodes'][0]['cpeMatch'][0]['criteria']\n",
    "        cve_cpe_list.append(cve_cpe)\n",
    "    except Exception as e:\n",
    "        cve_cpe = None\n",
    "        cve_cpe_list.append(cve_cpe)\n",
    "    \n",
    "    # Descripción:\n",
    "    try:\n",
    "        cve_description = i[\"cve\"]['descriptions'][1]['value']\n",
    "        cve_description_list.append(cve_description)\n",
    "    except Exception as e:\n",
    "        cve_description = None\n",
    "        cve_description_list.append(cve_cpe)\n",
    "    \n",
    "    # Guardo Severidad para las distintas versiones CVSS\n",
    "    # versión 3.1\n",
    "    try:\n",
    "        severidad =  i[\"cve\"]['metrics']['cvssMetricV31'][0]['cvssData']['baseSeverity']\n",
    "        severity_cvssv31.append(severidad)\n",
    "    except Exception as e:\n",
    "        severity_cvssv31.append(None)\n",
    "    \n",
    "    # versión 4.0\n",
    "    try:\n",
    "        severidad =  i[\"cve\"]['metrics']['cvssMetricV40'][0]['cvssData']['baseSeverity']\n",
    "        severity_cvssv4.append(severidad)                      \n",
    "    except Exception as e:\n",
    "        severity_cvssv4.append(None)\n",
    "    \n",
    "    # versión 2.0\n",
    "    try:\n",
    "        severidad =  i[\"cve\"]['metrics']['cvssMetricV2'][0]['cvssData']['baseScore']\n",
    "        severity_cvssv2.append(severidad)\n",
    "    except Exception as e:\n",
    "        severity_cvssv2.append(None)\n",
    "\n",
    "\n",
    "\n",
    "# Agrego estos datos como columna a la tabla\n",
    "data['CPE'] = cve_cpe_list\n",
    "data['CVSS_31'] = severity_cvssv31\n",
    "data['CVSS_4'] = severity_cvssv4\n",
    "data['CVSS_2'] = severity_cvssv2\n",
    "data['Description'] = cve_description_list\n"
   ]
  },
  {
   "cell_type": "markdown",
   "id": "b011735f-f7b5-4ddf-b828-a94e68865be5",
   "metadata": {},
   "source": [
    "## LOAD: Inventario de equipos."
   ]
  },
  {
   "cell_type": "code",
   "execution_count": 8,
   "id": "f74e5c73-c9b2-4619-966e-77281365b396",
   "metadata": {
    "tags": []
   },
   "outputs": [],
   "source": [
    "# Leo el inventarios\n",
    "tecnologias_monex = pd.read_excel(\"..//data//raw//tecnologias_monex.xlsx\")\n",
    "marcas = tecnologias_monex['Marca'].drop_duplicates().values"
   ]
  },
  {
   "cell_type": "markdown",
   "id": "4fbbb4d6-f384-4a9b-94f5-e777338a1adc",
   "metadata": {},
   "source": [
    "### Buscar por Marca o Vendor"
   ]
  },
  {
   "cell_type": "code",
   "execution_count": 9,
   "id": "dbcc87b5-9bfd-4d4b-9130-a537e1b2e42f",
   "metadata": {
    "tags": []
   },
   "outputs": [
    {
     "name": "stderr",
     "output_type": "stream",
     "text": [
      "C:\\Users\\mbustos_lightech\\AppData\\Local\\Temp\\ipykernel_24552\\3315835943.py:4: UserWarning: This pattern is interpreted as a regular expression, and has match groups. To actually get the groups, use str.extract.\n",
      "  vuln_df = data[data['CPE'].str.contains(i, case = False, na= False)]\n"
     ]
    }
   ],
   "source": [
    "# Itero entre la lista de marcas y busco en la tabla de los cve del NIST\n",
    "vuln_marcas =[] \n",
    "for i in marcas:\n",
    "    vuln_df = data[data['CPE'].str.contains(i, case = False, na= False)]\n",
    "    vuln_marcas.append(vuln_df)\n",
    "    \n",
    "\n",
    "# Concateno la lista de los resultados encontrados\n",
    "vuln_marcas = pd.concat(vuln_marcas, ignore_index=True)"
   ]
  },
  {
   "cell_type": "markdown",
   "id": "47074596-8fcd-4466-96ee-4b1d8a4e6bc7",
   "metadata": {},
   "source": [
    "### Filtro: HIGH & CRITICAL"
   ]
  },
  {
   "cell_type": "code",
   "execution_count": 30,
   "id": "18fc2ef2-aedb-45af-958b-cd83f91b15e5",
   "metadata": {
    "tags": []
   },
   "outputs": [],
   "source": [
    "vuln_high_critical = vuln_marcas[vuln_marcas['CVSS_31'].isin(['HIGH','CRITICAL']) |\n",
    "                                vuln_marcas['CVSS_4'].isin(['HIGH','CRITICAL'])]\n",
    "# vuln_high_critical = vuln_high_critical[['id', 'published', 'lastModified', 'CPE', 'CVSS_31', 'CVSS_4', 'Description']]"
   ]
  },
  {
   "cell_type": "markdown",
   "id": "7aed897f-f920-4451-ae3c-e35a0e9f73fb",
   "metadata": {},
   "source": [
    "### FORMATO FINAL"
   ]
  },
  {
   "cell_type": "code",
   "execution_count": 35,
   "id": "2f098c10-c6ee-4688-8653-0e714a7fb67b",
   "metadata": {
    "tags": []
   },
   "outputs": [],
   "source": [
    "# Extraer el fragmento del CPE (a partir del tercer \":\" y del cuarto \":\")\n",
    "vuln_high_critical['Modelo'] = vuln_high_critical['CPE'].str.split(':').str[4]\n",
    "vuln_high_critical['Marca'] = vuln_high_critical['CPE'].str.split(':').str[3]\n",
    "\n",
    "# Renombrar columnas para que sean más claras\n",
    "vuln_high_critical = vuln_high_critical.rename(columns={\n",
    "    \"published\": \"Fecha de creación\",\n",
    "    \"Description\": \"Descripción\"    \n",
    "})\n",
    "\n",
    "# Dataframe final\n",
    "vuln_high_critical = vuln_high_critical[['id', \"Fecha de creación\", 'Marca', 'Modelo',\n",
    "       'Descripción', 'CVSS_31', 'CVSS_4']]\n",
    "\n",
    "vuln_high_critical.sort_values(by=['CVSS_31'], inplace=True)"
   ]
  },
  {
   "cell_type": "markdown",
   "id": "a205ad43-8e17-4816-8942-e6eba7a5a348",
   "metadata": {
    "tags": []
   },
   "source": [
    "### LOAD"
   ]
  },
  {
   "cell_type": "code",
   "execution_count": 37,
   "id": "438646f8-19ab-483c-b2ef-3fdef274c5cb",
   "metadata": {
    "tags": []
   },
   "outputs": [],
   "source": [
    "# Guardo la info en un archivo CSV\n",
    "vuln_high_critical.to_csv('..//data//stage//vuln_high_critical.csv', index=False, encoding='utf-8-sig')\n"
   ]
  },
  {
   "cell_type": "code",
   "execution_count": 34,
   "id": "5a70c1aa-3d41-40b0-9c4b-4f561827633b",
   "metadata": {
    "tags": []
   },
   "outputs": [
    {
     "name": "stdout",
     "output_type": "stream",
     "text": [
      "<class 'pandas.core.frame.DataFrame'>\n",
      "Index: 146 entries, 0 to 307\n",
      "Data columns (total 7 columns):\n",
      " #   Column             Non-Null Count  Dtype         \n",
      "---  ------             --------------  -----         \n",
      " 0   id                 146 non-null    object        \n",
      " 1   Fecha de creación  146 non-null    datetime64[ns]\n",
      " 2   Marca              146 non-null    object        \n",
      " 3   Modelo             146 non-null    object        \n",
      " 4   Descripción        146 non-null    object        \n",
      " 5   CVSS_31            146 non-null    object        \n",
      " 6   CVSS_4             6 non-null      object        \n",
      "dtypes: datetime64[ns](1), object(6)\n",
      "memory usage: 9.1+ KB\n"
     ]
    }
   ],
   "source": [
    "# vuln_high_critical = vuln_high_critical.astype('str')\n",
    "vuln_high_critical.info()"
   ]
  }
 ],
 "metadata": {
  "kernelspec": {
   "display_name": "Python 3 (ipykernel)",
   "language": "python",
   "name": "python3"
  },
  "language_info": {
   "codemirror_mode": {
    "name": "ipython",
    "version": 3
   },
   "file_extension": ".py",
   "mimetype": "text/x-python",
   "name": "python",
   "nbconvert_exporter": "python",
   "pygments_lexer": "ipython3",
   "version": "3.11.5"
  }
 },
 "nbformat": 4,
 "nbformat_minor": 5
}
